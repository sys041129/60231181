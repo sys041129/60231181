{
 "cells": [
  {
   "cell_type": "code",
   "execution_count": 2,
   "id": "40be1a95-876e-4a2b-b33e-5ecbbf386e2a",
   "metadata": {},
   "outputs": [
    {
     "name": "stdout",
     "output_type": "stream",
     "text": [
      "ANOVA 결과: F_onewayResult(statistic=10.306060749567642, pvalue=3.9701985038953e-05)\n"
     ]
    }
   ],
   "source": [
    "#working year 별로 salary 차이(2020 2021 2022) ANOVA 사용\n",
    "import pandas as pd\n",
    "\n",
    "df = pd.read_csv(\"Data_Science_Fields_Salary_Categorization.csv\")\n",
    "\n",
    "# 컬럼 이름 공백 제거\n",
    "df.columns = df.columns.str.strip()\n",
    "\n",
    "# 'Working_Year'를 정수형으로 변환\n",
    "df['Working_Year'] = pd.to_numeric(df['Working_Year'], errors='coerce')\n",
    "\n",
    "# 'Salary_In_Rupees'에서 쉼표 제거하고 숫자로 변환\n",
    "df['Salary_In_Rupees'] = df['Salary_In_Rupees'].replace({',': ''}, regex=True)\n",
    "df['Salary_In_Rupees'] = pd.to_numeric(df['Salary_In_Rupees'], errors='coerce')\n",
    "\n",
    "# 데이터 전처리: NaN 값 제거 (Salary_In_Rupees와 Working_Year에 NaN 값이 있는 경우 제거)\n",
    "df_clean = df.dropna(subset=['Salary_In_Rupees', 'Working_Year'])\n",
    "\n",
    "# 각 연도별 데이터 분리\n",
    "salary_2020 = df_clean[df_clean['Working_Year'] == 2020]['Salary_In_Rupees']\n",
    "salary_2021 = df_clean[df_clean['Working_Year'] == 2021]['Salary_In_Rupees']\n",
    "salary_2022 = df_clean[df_clean['Working_Year'] == 2022]['Salary_In_Rupees']\n",
    "\n",
    "# ANOVA 분석: Working_Year별 Salary 차이 분석\n",
    "import scipy.stats as stats\n",
    "anova_result = stats.f_oneway(salary_2020, salary_2021, salary_2022)\n",
    "print(\"ANOVA 결과:\", anova_result)\n",
    "#결과: p-value 매우 작음 >> 귀무가설 기각(연도별 유의미한 급여 차이 있음),statistic(그룹 간 평균 차이와 그룹 내 변동의 비율)이  큼"
   ]
  },
  {
   "cell_type": "code",
   "execution_count": 3,
   "id": "9f224be6-3f41-418f-bef8-9d339e46a80f",
   "metadata": {},
   "outputs": [
    {
     "name": "stdout",
     "output_type": "stream",
     "text": [
      "Kruskal-Wallis 검정 결과:\n",
      "Statistic: 36.41081550087724\n",
      "p-value: 1.240200417426716e-08\n",
      "유의미한 차이가 있습니다.\n"
     ]
    }
   ],
   "source": [
    "#Company Size 별로 salary 차이 (3개) kruskal 사용\n",
    "import scipy.stats as stats\n",
    "#위에 한 import와 변환과정 생략\n",
    "\n",
    "# 'Company_Size'별로 salary를 분리\n",
    "salary_L = df[df['Company_Size'] == 'L']['Salary_In_Rupees']\n",
    "salary_M = df[df['Company_Size'] == 'M']['Salary_In_Rupees']\n",
    "salary_S = df[df['Company_Size'] == 'S']['Salary_In_Rupees']\n",
    "\n",
    "# Kruskal-Wallis 검정: Company_Size별 Salary 차이 분석\n",
    "kruskal_result = stats.kruskal(salary_L, salary_M, salary_S)\n",
    "\n",
    "print(\"Kruskal-Wallis 검정 결과:\")\n",
    "print(\"Statistic:\", kruskal_result.statistic)\n",
    "print(\"p-value:\", kruskal_result.pvalue)\n",
    "\n",
    "if kruskal_result.pvalue < 0.05:\n",
    "    print(\"유의미한 차이가 있습니다.\")\n",
    "else:\n",
    "    print(\"유의미한 차이가 없습니다.\")\n",
    "#결과: pvalue<0.05 유의미한 차이 존재 statistic=36(값이 크면 그룹간 차이 큼)>> 꽤 크게 차이남\n"
   ]
  },
  {
   "cell_type": "code",
   "execution_count": 4,
   "id": "c91c5c9f-3d74-4b86-939b-24ea735720df",
   "metadata": {},
   "outputs": [
    {
     "name": "stdout",
     "output_type": "stream",
     "text": [
      "Kruskal-Wallis 검정 결과:\n",
      "Statistic: 96.93359029648119\n",
      "p-value: 5.40348072477555e-05\n",
      "지역별 급여 차이는 통계적으로 유의미합니다.\n"
     ]
    }
   ],
   "source": [
    "#company-location 별로 salary 차이 (상위 5개) kruskal\n",
    "# 'Company_Location' 별로 Salary 상위 5개 회사 리스트 모으기\n",
    "salary_by_location = {}\n",
    "\n",
    "for location in df['Company_Location'].unique():\n",
    "    # 해당 위치에서 Salary 상위 5개를 뽑음\n",
    "    top_5_salary = df[df['Company_Location'] == location].nlargest(5, 'Salary_In_Rupees')['Salary_In_Rupees']\n",
    "    \n",
    "    # 해당 위치가 상위 5개 Salary를 가진다면 딕셔너리에 저장\n",
    "    if len(top_5_salary) > 0:\n",
    "        salary_by_location[location] = top_5_salary\n",
    "#리스트를 각 지역이름으로 저장(salary_by_lacation에 저장)\n",
    "# Kruskal-Wallis 검정: 여러 지역에 대해 Salary 차이 분석\n",
    "kruskal_result = stats.kruskal(*salary_by_location.values())\n",
    "\n",
    "print(\"Kruskal-Wallis 검정 결과:\")\n",
    "print(\"Statistic:\", kruskal_result.statistic)\n",
    "print(\"p-value:\", kruskal_result.pvalue)\n",
    "\n",
    "# p-value가 0.05 미만이면, 유의미한 차이가 있다는 결론을 내릴 수 있습니다.\n",
    "if kruskal_result.pvalue < 0.05:\n",
    "    print(\"지역별 급여 차이는 통계적으로 유의미합니다.\")\n",
    "else:\n",
    "    print(\"지역별 급여 차이는 통계적으로 유의미하지 않습니다.\")\n",
    "#결과 pvalue 작아서 차이 유의미 statistic 매우큼 >> 차이 매우 큼"
   ]
  },
  {
   "cell_type": "code",
   "execution_count": 5,
   "id": "7c258963-c8ec-4f35-8d4a-711d5c98d585",
   "metadata": {},
   "outputs": [
    {
     "name": "stdout",
     "output_type": "stream",
     "text": [
      "One-way ANOVA 결과:\n",
      "F-statistic: 3.8110059155522595\n",
      "p-value: 6.894557391308788e-15\n",
      "유의미한 차이가 있습니다.\n",
      "Block ANOVA 결과:\n",
      "                      sum_sq     df          F        PR(>F)\n",
      "C(Designation)  3.505198e+15   49.0   3.567081  2.038787e-13\n",
      "C(Experience)   3.357538e+15    3.0  55.807973  1.559853e-31\n",
      "Residual        1.110998e+16  554.0        NaN           NaN\n"
     ]
    }
   ],
   "source": [
    "#designation group 별로 salary 차이(5개) ANOVA or kruskal (block ANOVA 까지)\n",
    "import statsmodels.api as sm\n",
    "from statsmodels.formula.api import ols\n",
    "\n",
    "# 'Job'별로 Salary 그룹화 (직업별)\n",
    "salary_by_job = [df[df['Designation'] == job]['Salary_In_Rupees'] \n",
    "                 for job in df['Designation'].unique()]\n",
    "\n",
    "# One-way ANOVA 분석 (직업별 급여 차이 분석)\n",
    "anova_result = stats.f_oneway(*salary_by_job)\n",
    "\n",
    "# 결과 출력\n",
    "print(\"One-way ANOVA 결과:\")\n",
    "print(\"F-statistic:\", anova_result.statistic)\n",
    "print(\"p-value:\", anova_result.pvalue)\n",
    "\n",
    "# 유의미한 차이가 있는지 확인\n",
    "if anova_result.pvalue < 0.05:\n",
    "    print(\"유의미한 차이가 있습니다.\")\n",
    "else:\n",
    "    print(\"유의미한 차이가 없습니다.\")\n",
    "\n",
    "# 블록 ANOVA 분석 (Designation을 고정효과, Experience를 블록효과로 사용)\n",
    "model = ols('Salary_In_Rupees ~ C(Designation) + C(Experience)', data=df).fit()\n",
    "\n",
    "# ANOVA 분석\n",
    "anova_table = sm.stats.anova_lm(model, typ=2)\n",
    "\n",
    "print(\"Block ANOVA 결과:\")\n",
    "print(anova_table)\n",
    "#결과:직업별로 유의미 statistic은 별로 크지않은 모습\n",
    "#block anova결과:sum_sq:각 요소가 설명하는 총 제곱합(변동성)을 의미,C(Designation)과 C(Experience)가 설명하는 변동량과 잔차\n",
    "#F:각 요소의 변동성을 비교한 F-statistic,PR(>F):각 F-statistic에 대응하는 p-value 이 값을 통해 해당 요소가 유의미한 영향을 미치는지를 알 수 있음\n",
    "#경험 역시 pvalue가 작기 때문에 급여차이에 유의미한 영향을 준다고 볼 수 있음(귀무가설 기각)"
   ]
  },
  {
   "cell_type": "code",
   "execution_count": null,
   "id": "8c4f6ca3-9a76-4a9e-b398-1cf092c064e3",
   "metadata": {},
   "outputs": [],
   "source": []
  }
 ],
 "metadata": {
  "kernelspec": {
   "display_name": "statnv",
   "language": "python",
   "name": "statnv"
  },
  "language_info": {
   "codemirror_mode": {
    "name": "ipython",
    "version": 3
   },
   "file_extension": ".py",
   "mimetype": "text/x-python",
   "name": "python",
   "nbconvert_exporter": "python",
   "pygments_lexer": "ipython3",
   "version": "3.9.0"
  }
 },
 "nbformat": 4,
 "nbformat_minor": 5
}
